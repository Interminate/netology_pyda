{
 "cells": [
  {
   "cell_type": "code",
   "execution_count": 14,
   "metadata": {},
   "outputs": [
    {
     "name": "stdout",
     "output_type": "stream",
     "text": [
      "True\n"
     ]
    }
   ],
   "source": [
    "# Задание 1\n",
    "long_phrase = 'Насколько проще было бы писать программы, если бы не заказчики'\n",
    "short_phrase = '640Кб должно хватить для любых задач. Билл Гейтс (по легенде)'\n",
    "print (len (long_phrase) > len (short_phrase))"
   ]
  },
  {
   "cell_type": "code",
   "execution_count": 21,
   "metadata": {},
   "outputs": [
    {
     "name": "stdout",
     "output_type": "stream",
     "text": [
      "Введите объем файла: 213680000\n",
      "Объем файла равен 213.68Mb\n"
     ]
    }
   ],
   "source": [
    "# Задание 2\n",
    "size_of_file = int(input (\"Введите объем файла: \"))\n",
    "print (\"Объем файла равен \" + str(round (size_of_file / 1000000, 2)) + \"Mb\")"
   ]
  },
  {
   "cell_type": "code",
   "execution_count": 38,
   "metadata": {},
   "outputs": [
    {
     "name": "stdout",
     "output_type": "stream",
     "text": [
      "Введите месяц: август\n",
      "Введите число: 287\n",
      "Введите корректную дату\n"
     ]
    }
   ],
   "source": [
    "# Задание 3\n",
    "month = input(\"Введите месяц: \")\n",
    "number = int (input (\"Введите число: \"))\n",
    "if 0 <= number <= 31:\n",
    "    if month == \"январь\":\n",
    "        if number <= 19:\n",
    "            print (\"Козерог\")\n",
    "        else:\n",
    "            print (\"Водолей\")\n",
    "    if month == \"февраль\":\n",
    "        if number <= 19:\n",
    "            print (\"Водолей\")\n",
    "        else:\n",
    "            print (\"Рыбы\")\n",
    "    if month == \"март\":\n",
    "        if number <= 20:\n",
    "            print (\"Рыбы\")\n",
    "        else:\n",
    "            print (\"Овен\")\n",
    "    if month == \"апрель\":\n",
    "        if number <= 20:\n",
    "            print (\"Овен\")\n",
    "        else:\n",
    "            print (\"Телец\")\n",
    "    if month == \"май\":\n",
    "        if number <= 20:\n",
    "            print (\"Телец\")\n",
    "        else:\n",
    "            print (\"Близнецы\")\n",
    "    if month == \"июнь\":\n",
    "        if number <= 20:\n",
    "            print (\"Близнецы\")\n",
    "        else:\n",
    "            print (\"Рак\")\n",
    "    if month == \"июль\":\n",
    "        if number <= 22:\n",
    "            print (\"Рак\")\n",
    "        else:\n",
    "            print (\"Лев\")\n",
    "    if month == \"август\":\n",
    "        if number <= 22:\n",
    "            print (\"Лев\")\n",
    "        else:\n",
    "            print (\"Дева\")\n",
    "    if month == \"сентябрь\":\n",
    "        if number <= 22:\n",
    "            print (\"Дева\")\n",
    "        else:\n",
    "            print (\"Весы\")\n",
    "    if month == \"октябрь\":\n",
    "        if number <= 22:\n",
    "            print (\"Весы\")\n",
    "        else:\n",
    "            print (\"Скорпион\")\n",
    "    if month == \"ноябрь\":\n",
    "        if number <= 22:\n",
    "            print (\"Скорпион\")\n",
    "        else:\n",
    "            print (\"Стрелец\")\n",
    "    if month == \"декабрь\":\n",
    "        if number <= 21:\n",
    "            print (\"Стрелец\")\n",
    "        else:\n",
    "            print (\"Козерог\")\n",
    "else:\n",
    "    print (\"Ошибка. Введите корректную дату!\")"
   ]
  },
  {
   "cell_type": "code",
   "execution_count": 42,
   "metadata": {},
   "outputs": [
    {
     "name": "stdout",
     "output_type": "stream",
     "text": [
      "Введите зарплату: 100000\n",
      "Введите сколько процентов от вашей зарплаты уходит на ипотеку: 30\n",
      "Введите сколько процентов от вашей зарплаты уходит на жизнь: 50\n",
      "Введите сколько раз в год приходит премия: 2\n",
      "На ипотеку было потрачено: 360000 рублей\n",
      "Было накоплено: 340000 рублей\n"
     ]
    }
   ],
   "source": [
    "# Задание 4\n",
    "salary = int (input (\"Введите зарплату: \"))\n",
    "percent_of_salary_to_credit = int (input (\"Введите сколько процентов от вашей зарплаты уходит на ипотеку: \"))\n",
    "percent_of_salary_to_life = int (input (\"Введите сколько процентов от вашей зарплаты уходит на жизнь: \"))\n",
    "count_of_bonus_per_year = int (input (\"Введите сколько раз в год приходит премия: \"))\n",
    "value_of_credit_per_month = salary * (percent_of_salary_to_credit / 100)\n",
    "cost_of_life_per_month = salary * (percent_of_salary_to_life / 100)\n",
    "bonus_per_year_to_holiday = 0.5 * salary * count_of_bonus_per_year\n",
    "bonus_per_year_to_investment = bonus_per_year_to_holiday\n",
    "print (\"На ипотеку было потрачено:\", round (12 * value_of_credit_per_month), \"рублей\")\n",
    "print (\"Было накоплено:\", round (12 * (salary - value_of_credit_per_month - cost_of_life_per_month) + bonus_per_year_to_investment), \"рублей\")\n"
   ]
  },
  {
   "cell_type": "code",
   "execution_count": null,
   "metadata": {},
   "outputs": [],
   "source": []
  }
 ],
 "metadata": {
  "kernelspec": {
   "display_name": "Python 3",
   "language": "python",
   "name": "python3"
  },
  "language_info": {
   "codemirror_mode": {
    "name": "ipython",
    "version": 3
   },
   "file_extension": ".py",
   "mimetype": "text/x-python",
   "name": "python",
   "nbconvert_exporter": "python",
   "pygments_lexer": "ipython3",
   "version": "3.7.1"
  }
 },
 "nbformat": 4,
 "nbformat_minor": 2
}
