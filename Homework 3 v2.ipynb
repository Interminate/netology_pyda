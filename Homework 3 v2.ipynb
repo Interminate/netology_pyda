{
 "cells": [
  {
   "cell_type": "code",
   "execution_count": 1,
   "metadata": {},
   "outputs": [
    {
     "data": {
      "text/plain": [
       "103"
      ]
     },
     "execution_count": 1,
     "metadata": {},
     "output_type": "execute_result"
    }
   ],
   "source": [
    "#Задание 1\n",
    "\n",
    "data = [\n",
    "[13, 25, 23, 34],\n",
    "[45, 32, 44, 47],\n",
    "[12, 33, 23, 95],\n",
    "[13, 53, 34, 35],\n",
    "]\n",
    "def count (data):\n",
    "    i = 0\n",
    "    result = 0\n",
    "    for x in data:\n",
    "        result += int(x[i])\n",
    "        i += 1\n",
    "    return result\n",
    "count(data)"
   ]
  },
  {
   "cell_type": "code",
   "execution_count": 2,
   "metadata": {},
   "outputs": [
    {
     "data": {
      "text/plain": [
       "430"
      ]
     },
     "execution_count": 2,
     "metadata": {},
     "output_type": "execute_result"
    }
   ],
   "source": [
    "#Задание 2\n",
    "\n",
    "data = [1, '5', 'abc', 20, '2']\n",
    "def fint (x):\n",
    "    result = 0\n",
    "    for a in x:\n",
    "        if type(a) == int:\n",
    "            result += a ** 2\n",
    "        else:\n",
    "            if a.isdigit():\n",
    "                result += int(a) ** 2\n",
    "            else:\n",
    "                continue\n",
    "    return result\n",
    "fint(data)"
   ]
  },
  {
   "cell_type": "code",
   "execution_count": 3,
   "metadata": {},
   "outputs": [
    {
     "name": "stdout",
     "output_type": "stream",
     "text": [
      "55\n"
     ]
    }
   ],
   "source": [
    "#Задание 3\n",
    "\n",
    "def fibonacci(n):\n",
    "    if n in (1, 2):\n",
    "        return 1\n",
    "    return fibonacci(n - 1) + fibonacci(n - 2)\n",
    " \n",
    " \n",
    "print(fibonacci(10))"
   ]
  },
  {
   "cell_type": "code",
   "execution_count": 33,
   "metadata": {},
   "outputs": [
    {
     "name": "stdout",
     "output_type": "stream",
     "text": [
      "Введите команду: вывести на экран среднюю оценку за все ДЗ по группе и вывести на экран среднюю оценку за экзамен по группе\n"
     ]
    },
    {
     "data": {
      "text/plain": [
       "('Оценки за дз: 8.43', 'Оценки за экзамен: 9.17')"
      ]
     },
     "execution_count": 33,
     "metadata": {},
     "output_type": "execute_result"
    }
   ],
   "source": [
    "#Задание 4\n",
    "#Список команд: \n",
    "#вывести на экран среднюю оценку за все ДЗ по группе и вывести на экран среднюю оценку за экзамен по группе\n",
    "#вывести среднюю оценку за ДЗ и за экзамен по группе в разрезе пола студентов \n",
    "#вывести среднюю оценку за ДЗ и за экзамен в разрезе наличия опыта в программировании у студентов\n",
    "\n",
    "students_list = [\n",
    "{'name': 'Василий', 'surname': 'Теркин', 'sex': 'м', 'program_exp': True, 'grade': [8, 8, 9, 10, 9], 'exam': 9},\n",
    "{'name': 'Мария', 'surname': 'Павлова', 'sex': 'ж', 'program_exp': True, 'grade': [7, 8, 9, 7, 9], 'exam': 8},\n",
    "{'name': 'Ирина', 'surname': 'Андреева', 'sex': 'ж', 'program_exp': True, 'grade': [10, 9, 8, 10, 10], 'exam': 10},\n",
    "{'name': 'Татьяна', 'surname': 'Сидорова', 'sex': 'ж', 'program_exp': True, 'grade': [7, 8, 8, 9, 8], 'exam': 8},\n",
    "{'name': 'Иван', 'surname': 'Васильев', 'sex': 'м', 'program_exp': True, 'grade': [9, 8, 9, 6, 9], 'exam': 10},\n",
    "{'name': 'Роман', 'surname': 'Золотарев', 'sex': 'м', 'program_exp': False, 'grade': [8, 9, 9, 6, 9], 'exam': 10}\n",
    "]\n",
    "\n",
    "def count (data, param, param2, types):\n",
    "    count = 0\n",
    "    for i in data:\n",
    "        if param == 'grade' and types == 'dz':\n",
    "            count += len(i['grade'])\n",
    "        elif param == 'grade' and types == 'ex':\n",
    "            count = len(data)\n",
    "        elif param == 'sex' and types == 'dz':\n",
    "            if param2 == 'м' and i['sex'] == 'м':\n",
    "                count += len(i['grade'])\n",
    "            if param2 == 'ж' and i['sex'] == 'ж':\n",
    "                count += len(i['grade'])\n",
    "        elif param == 'sex' and types == 'ex':\n",
    "            if param2 == 'м' and i['sex'] == 'м':\n",
    "                count += 1\n",
    "            if param2 == 'ж' and i['sex'] == 'ж':\n",
    "                count += 1\n",
    "        elif param == 'exp' and types == 'dz':\n",
    "            if param2 == 'True' and i['program_exp'] == True:\n",
    "                count += len(i['grade'])\n",
    "            if param2 == 'False' and i['program_exp'] == False:\n",
    "                count += len(i['grade'])\n",
    "        elif param == 'exp' and types == 'ex':\n",
    "            if param2 == 'True' and i['program_exp'] == True:\n",
    "                count += 1\n",
    "            if param2 == 'False' and i['program_exp'] == False:\n",
    "                count += 1\n",
    "    return count\n",
    "    \n",
    "\n",
    "\n",
    "def dz (x, c):\n",
    "    avgresult = 0\n",
    "    avgresultm = 0\n",
    "    avgresultw = 0\n",
    "    avgresultt = 0\n",
    "    avgresultf = 0\n",
    "    if c == 'grade':\n",
    "        for i in x:\n",
    "            for a in i['grade']:\n",
    "                avgresult += a\n",
    "        return round(avgresult / count(x, c, 0, 'dz'), 2)\n",
    "    elif c == 'sex':\n",
    "        for i in x:\n",
    "            for a in i['grade']:\n",
    "                if i['sex'] == 'м':\n",
    "                    avgresultm += a\n",
    "                if i['sex'] == 'ж':\n",
    "                    avgresultw += a\n",
    "        avgresultw = avgresultw / count(x, c, 'ж', 'dz')\n",
    "        avgresultm = avgresultm / count(x, c, 'м', 'dz')\n",
    "        return f'м = {round(avgresultm, 2)}', f'ж = {round(avgresultw, 2)}'\n",
    "    elif c == 'exp':\n",
    "        for i in x:\n",
    "            for a in i['grade']:\n",
    "                if i['program_exp'] == True:\n",
    "                    avgresultt += a\n",
    "                if i['program_exp'] == False:\n",
    "                    avgresultf += a\n",
    "        avgresultt = avgresultt / count(x, c, 'True', 'dz')\n",
    "        avgresultf = avgresultf / count(x, c, 'False', 'dz')\n",
    "        return f'С опытом программирования = {round(avgresultt, 2)}', f'Без опыта программирования = {round(avgresultf, 2)}'\n",
    "        \n",
    "\n",
    "def ex (x, a):\n",
    "    avgresult = 0\n",
    "    avgresultm = 0\n",
    "    avgresultw = 0\n",
    "    avgresultt = 0\n",
    "    avgresultf = 0\n",
    "    if a == 'grade':\n",
    "        for i in x:\n",
    "            avgresult += i['exam']\n",
    "        avgresult = avgresult / count(x, a, 0, 'ex')\n",
    "        return round(avgresult, 2)\n",
    "    elif a == 'sex':\n",
    "        for i in x:\n",
    "            if i['sex'] == 'м':\n",
    "                avgresultm += i['exam']\n",
    "            if i['sex'] == 'ж':\n",
    "                avgresultw += i['exam']\n",
    "        avgresultw = avgresultw / count(x, a, 'ж', 'ex')\n",
    "        avgresultm = avgresultm / count(x, a, 'м', 'ex')\n",
    "        return f'м = {round(avgresultm, 2)}', f'ж = {round(avgresultw, 2)}'\n",
    "    elif a == 'exp':\n",
    "        for i in x:\n",
    "            if i['program_exp'] == True:\n",
    "                avgresultt += i['exam']\n",
    "            if i['program_exp'] == False:\n",
    "                avgresultf += i['exam']\n",
    "        avgresultt = avgresultt / count(x, a, 'True', 'ex')\n",
    "        avgresultf = avgresultf / count(x, a, 'False', 'ex')\n",
    "        return f'С опытом программирования = {round(avgresultt, 2)}', f'Без опыта программирования = {round(avgresultf, 2)}'\n",
    "\n",
    "def result (x, a):\n",
    "    if x == 'вывести на экран среднюю оценку за все ДЗ по группе и вывести на экран среднюю оценку за экзамен по группе':\n",
    "        return f'Оценки за дз: ' + str(dz(a, 'grade')), 'Оценки за экзамен: ' + str(ex(a, 'grade'));\n",
    "    elif x == 'вывести среднюю оценку за ДЗ и за экзамен по группе в разрезе пола студентов':\n",
    "        return dz(a, 'sex'), ex(a, 'sex')\n",
    "    elif x == 'вывести среднюю оценку за ДЗ и за экзамен в разрезе наличия опыта в программировании у студентов':\n",
    "        return dz(a, 'exp'), ex(a, 'exp')\n",
    "    else:\n",
    "        return 'Неверная команда'\n",
    "\n",
    "result (input (\"Введите команду: \"), students_list)"
   ]
  },
  {
   "cell_type": "code",
   "execution_count": null,
   "metadata": {},
   "outputs": [],
   "source": []
  },
  {
   "cell_type": "code",
   "execution_count": null,
   "metadata": {},
   "outputs": [],
   "source": []
  }
 ],
 "metadata": {
  "kernelspec": {
   "display_name": "Python 3",
   "language": "python",
   "name": "python3"
  },
  "language_info": {
   "codemirror_mode": {
    "name": "ipython",
    "version": 3
   },
   "file_extension": ".py",
   "mimetype": "text/x-python",
   "name": "python",
   "nbconvert_exporter": "python",
   "pygments_lexer": "ipython3",
   "version": "3.7.1"
  }
 },
 "nbformat": 4,
 "nbformat_minor": 2
}
